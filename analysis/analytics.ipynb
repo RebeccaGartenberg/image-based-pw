{
 "cells": [
  {
   "cell_type": "code",
   "execution_count": 1,
   "metadata": {},
   "outputs": [],
   "source": [
    "from IPython.display import display, HTML\n",
    "import matplotlib.pyplot as plt\n",
    "from scipy import signal\n",
    "import pandas as pd\n",
    "import numpy as np\n",
    "import sqlite3\n",
    "import cv2\n",
    "import os"
   ]
  },
  {
   "cell_type": "code",
   "execution_count": 2,
   "metadata": {},
   "outputs": [],
   "source": [
    "MASKED_IMAGES_DIR = \"masked_images\"\n",
    "BACKEND_DIR = \"backend\"\n",
    "IMAGES_DIR = \"images\"\n",
    "\n",
    "DB_FILE = \"db.sqlite\"\n",
    "\n",
    "PASSWORD_CHARACTERS = 10 + 52 + 32\n",
    "\"\"\" = (0-9) + (a-z,A-Z) + Special Characters \"\"\"\n",
    "\n",
    "IMAGE_SIZE = 256\n",
    "NUMBER_OF_IMAGES = 2\n",
    "\n",
    "MIN_R = 3\n",
    "MAX_R = 30\n",
    "\n",
    "SAME_POINT_TOLERANCE = 10"
   ]
  },
  {
   "cell_type": "code",
   "execution_count": 3,
   "metadata": {},
   "outputs": [
    {
     "name": "stdout",
     "output_type": "stream",
     "text": [
      "Plaintext character size: 94\n"
     ]
    }
   ],
   "source": [
    "print(F\"Plaintext character size: {PASSWORD_CHARACTERS}\")"
   ]
  },
  {
   "cell_type": "code",
   "execution_count": 4,
   "metadata": {},
   "outputs": [],
   "source": [
    "image_masks = {}\n",
    "image_attributes = set()\n",
    "for image in os.listdir(os.path.join(os.curdir, MASKED_IMAGES_DIR)):\n",
    "    name = image.split(\".\")[0]\n",
    "    image_masks[name] = np.squeeze(cv2.imread(os.path.join(os.curdir, MASKED_IMAGES_DIR, image), cv2.IMREAD_UNCHANGED)[:, :, 3])\n",
    "    image_masks[name] = np.where(image_masks[name] < 255, 1, 0)\n",
    "    image_attributes.add(name.split(\"_\")[-1])"
   ]
  },
  {
   "cell_type": "code",
   "execution_count": 5,
   "metadata": {},
   "outputs": [],
   "source": [
    "results = sqlite3.connect(DB_FILE)"
   ]
  },
  {
   "cell_type": "code",
   "execution_count": 6,
   "metadata": {},
   "outputs": [],
   "source": [
    "users = pd.read_sql_query(\"SELECT * FROM user;\", results)\n",
    "passwords = pd.read_sql_query(\"SELECT * FROM passwords;\", results)\n",
    "attempts = pd.read_sql_query(\"SELECT * FROM attempts;\", results)"
   ]
  },
  {
   "cell_type": "code",
   "execution_count": 7,
   "metadata": {},
   "outputs": [],
   "source": [
    "def extract_images(row):\n",
    "    if not pd.isnull(row[\"password\"]):\n",
    "        points = row[\"password\"].split(\",\")\n",
    "        images = list(set([point.split()[0] for point in points]))\n",
    "        return images + [np.nan] * (2 - len(images))\n",
    "    else:\n",
    "        return [row[\"password\"], row[\"password\"]]"
   ]
  },
  {
   "cell_type": "code",
   "execution_count": 8,
   "metadata": {},
   "outputs": [],
   "source": [
    "def extract_types(row):\n",
    "    if not pd.isnull(row[\"image1\"]) and not pd.isnull(row[\"image2\"]):\n",
    "        image1_has_digit = any(map(str.isdigit, row[\"image1\"]))\n",
    "        image2_has_digit = any(map(str.isdigit, row[\"image2\"]))\n",
    "        used_natural = image1_has_digit or image2_has_digit\n",
    "        used_geometric = image1_has_digit is False or image2_has_digit is False\n",
    "        if used_geometric and used_natural:\n",
    "            return \"Both\"\n",
    "        return \"Natural\" if used_natural else \"Geometric\"\n",
    "    elif not pd.isnull(row[\"image1\"]):\n",
    "        image1_has_digit = any(map(str.isdigit, row[\"image1\"]))\n",
    "        return \"Natural\" if image1_has_digit else \"Geometric\"\n",
    "    else:\n",
    "        return np.nan"
   ]
  },
  {
   "cell_type": "code",
   "execution_count": 9,
   "metadata": {},
   "outputs": [],
   "source": [
    "def check_points(row):\n",
    "    if not pd.isnull(row[\"password\"]):\n",
    "        attributes = set()\n",
    "        points = row[\"password\"].split(\",\")\n",
    "        points = [tuple(point.split()) for point in points]\n",
    "\n",
    "        for point in points:\n",
    "            image_name = point[0].split(\".\")[0]\n",
    "            for key, value in [(mask_name, image_mask) for mask_name, image_mask in image_masks.items() if image_name in mask_name]:\n",
    "                if value[int(point[1]), int(point[2])] > 0:\n",
    "                    attributes.add(key.split(\"_\")[-1])\n",
    "        \n",
    "        return \", \".join(sorted(attributes)) if attributes else np.nan\n",
    "    else:\n",
    "        return np.nan"
   ]
  },
  {
   "cell_type": "code",
   "execution_count": 10,
   "metadata": {},
   "outputs": [],
   "source": [
    "def unique_points(row):\n",
    "    if not pd.isnull(row[\"password\"]):\n",
    "        points = row[\"password\"].split(\",\")\n",
    "        points = [tuple(point.split()) for point in points]\n",
    "\n",
    "        points_dict = {}\n",
    "        for point in points:\n",
    "            image_name = point[0]\n",
    "            if image_name in points_dict:\n",
    "                if not any((abs(int(point[1]) - existing[0]) + abs(int(point[2]) - existing[1])) < SAME_POINT_TOLERANCE for existing in points_dict[image_name]):\n",
    "                    points_dict[image_name].append((int(point[1]), int(point[2])))\n",
    "\n",
    "            else:\n",
    "                points_dict[image_name] = [(int(point[1]), int(point[2]))]\n",
    "\n",
    "        unique_points = 0\n",
    "        for key in points_dict.keys():\n",
    "            unique_points += len(points_dict[key])\n",
    "\n",
    "        return unique_points\n",
    "\n",
    "    else:\n",
    "        return 0"
   ]
  },
  {
   "cell_type": "code",
   "execution_count": 11,
   "metadata": {},
   "outputs": [],
   "source": [
    "full_df = pd.merge(users, attempts, on=\"id\", how=\"left\")\n",
    "full_df = pd.merge(full_df, passwords, on=[\"id\", \"r\"], how=\"left\").sort_values(by=[\"username\", \"r\"]).reset_index(drop=True)\n",
    "full_df[\"password_length\"] = full_df.apply(lambda row: row[\"password\"] if pd.isnull(row[\"password\"]) else len(row[\"password\"].split(\",\")), axis=1)\n",
    "full_df[[\"image1\", \"image2\"]] = full_df.apply(lambda row: extract_images(row), axis=1, result_type=\"expand\")\n",
    "full_df[\"image_types\"] = full_df.apply(lambda row: extract_types(row), axis=1)\n",
    "full_df[\"natural_characteristics\"] = full_df.apply(lambda row: check_points(row), axis=1)\n",
    "full_df[\"unique_points\"] = full_df.apply(lambda row: unique_points(row), axis=1)"
   ]
  },
  {
   "cell_type": "code",
   "execution_count": 12,
   "metadata": {},
   "outputs": [
    {
     "name": "stdout",
     "output_type": "stream",
     "text": [
      "Number of particiants: 19\n"
     ]
    }
   ],
   "source": [
    "print(F\"Number of particiants: {len(full_df['id'].unique().tolist())}\")"
   ]
  },
  {
   "cell_type": "code",
   "execution_count": 13,
   "metadata": {},
   "outputs": [
    {
     "name": "stdout",
     "output_type": "stream",
     "text": [
      "Number of passwords: 23\n"
     ]
    }
   ],
   "source": [
    "print(F\"Number of passwords: {len(full_df['password'].dropna().tolist())}\")"
   ]
  },
  {
   "cell_type": "code",
   "execution_count": 14,
   "metadata": {},
   "outputs": [
    {
     "data": {
      "text/html": [
       "<table border=\"1\" class=\"dataframe\">\n",
       "  <thead>\n",
       "    <tr style=\"text-align: right;\">\n",
       "      <th></th>\n",
       "      <th>id</th>\n",
       "      <th>username</th>\n",
       "      <th>r</th>\n",
       "      <th>attempts</th>\n",
       "      <th>successes</th>\n",
       "      <th>password</th>\n",
       "      <th>password_length</th>\n",
       "      <th>image1</th>\n",
       "      <th>image2</th>\n",
       "      <th>image_types</th>\n",
       "      <th>natural_characteristics</th>\n",
       "      <th>unique_points</th>\n",
       "    </tr>\n",
       "  </thead>\n",
       "  <tbody>\n",
       "    <tr>\n",
       "      <th>0</th>\n",
       "      <td>e17eb5fda55044b89e048aac4eb18e3a</td>\n",
       "      <td>Alex</td>\n",
       "      <td>10</td>\n",
       "      <td>2</td>\n",
       "      <td>0</td>\n",
       "      <td>NaN</td>\n",
       "      <td>NaN</td>\n",
       "      <td>NaN</td>\n",
       "      <td>NaN</td>\n",
       "      <td>NaN</td>\n",
       "      <td>NaN</td>\n",
       "      <td>0</td>\n",
       "    </tr>\n",
       "    <tr>\n",
       "      <th>1</th>\n",
       "      <td>fc2848119b284402b643ea38af52c1f4</td>\n",
       "      <td>Dassa01</td>\n",
       "      <td>5</td>\n",
       "      <td>1</td>\n",
       "      <td>0</td>\n",
       "      <td>NaN</td>\n",
       "      <td>NaN</td>\n",
       "      <td>NaN</td>\n",
       "      <td>NaN</td>\n",
       "      <td>NaN</td>\n",
       "      <td>NaN</td>\n",
       "      <td>0</td>\n",
       "    </tr>\n",
       "    <tr>\n",
       "      <th>2</th>\n",
       "      <td>fc2848119b284402b643ea38af52c1f4</td>\n",
       "      <td>Dassa01</td>\n",
       "      <td>10</td>\n",
       "      <td>9</td>\n",
       "      <td>0</td>\n",
       "      <td>NaN</td>\n",
       "      <td>NaN</td>\n",
       "      <td>NaN</td>\n",
       "      <td>NaN</td>\n",
       "      <td>NaN</td>\n",
       "      <td>NaN</td>\n",
       "      <td>0</td>\n",
       "    </tr>\n",
       "    <tr>\n",
       "      <th>3</th>\n",
       "      <td>4595b9f10c654b639a83f8a9e838e692</td>\n",
       "      <td>ZachF</td>\n",
       "      <td>15</td>\n",
       "      <td>2</td>\n",
       "      <td>0</td>\n",
       "      <td>NaN</td>\n",
       "      <td>NaN</td>\n",
       "      <td>NaN</td>\n",
       "      <td>NaN</td>\n",
       "      <td>NaN</td>\n",
       "      <td>NaN</td>\n",
       "      <td>0</td>\n",
       "    </tr>\n",
       "    <tr>\n",
       "      <th>4</th>\n",
       "      <td>dfa3e1d80e724c99a82675ec32f17b26</td>\n",
       "      <td>ZachF2</td>\n",
       "      <td>10</td>\n",
       "      <td>1</td>\n",
       "      <td>0</td>\n",
       "      <td>NaN</td>\n",
       "      <td>NaN</td>\n",
       "      <td>NaN</td>\n",
       "      <td>NaN</td>\n",
       "      <td>NaN</td>\n",
       "      <td>NaN</td>\n",
       "      <td>0</td>\n",
       "    </tr>\n",
       "    <tr>\n",
       "      <th>5</th>\n",
       "      <td>1e6bd3ef31874fd48359a206d2d3a737</td>\n",
       "      <td>Zachf</td>\n",
       "      <td>5</td>\n",
       "      <td>8</td>\n",
       "      <td>0</td>\n",
       "      <td>NaN</td>\n",
       "      <td>NaN</td>\n",
       "      <td>NaN</td>\n",
       "      <td>NaN</td>\n",
       "      <td>NaN</td>\n",
       "      <td>NaN</td>\n",
       "      <td>0</td>\n",
       "    </tr>\n",
       "    <tr>\n",
       "      <th>6</th>\n",
       "      <td>1e6bd3ef31874fd48359a206d2d3a737</td>\n",
       "      <td>Zachf</td>\n",
       "      <td>15</td>\n",
       "      <td>3</td>\n",
       "      <td>1</td>\n",
       "      <td>reknep.jpg 31 27, reknep.jpg 30 24, reknep.jpg 24 26, reknep.jpg 152 28, reknep.jpg 150 26, reknep.jpg 150 27</td>\n",
       "      <td>6.0</td>\n",
       "      <td>reknep.jpg</td>\n",
       "      <td>NaN</td>\n",
       "      <td>Geometric</td>\n",
       "      <td>NaN</td>\n",
       "      <td>2</td>\n",
       "    </tr>\n",
       "    <tr>\n",
       "      <th>7</th>\n",
       "      <td>08a98157812b411b876001eedf684cb6</td>\n",
       "      <td>a</td>\n",
       "      <td>10</td>\n",
       "      <td>1</td>\n",
       "      <td>1</td>\n",
       "      <td>pmvyje.jpg 128 118, pmvyje.jpg 128 118, jyrskv.jpg 132 128, jyrskv.jpg 132 128, pmvyje.jpg 62 193, pmvyje.jpg 192 190</td>\n",
       "      <td>6.0</td>\n",
       "      <td>pmvyje.jpg</td>\n",
       "      <td>jyrskv.jpg</td>\n",
       "      <td>Geometric</td>\n",
       "      <td>NaN</td>\n",
       "      <td>4</td>\n",
       "    </tr>\n",
       "    <tr>\n",
       "      <th>8</th>\n",
       "      <td>08a98157812b411b876001eedf684cb6</td>\n",
       "      <td>a</td>\n",
       "      <td>20</td>\n",
       "      <td>1</td>\n",
       "      <td>1</td>\n",
       "      <td>93011.jpg 206 30, 93011.jpg 104 82, 93011.jpg 166 126, 124431.jpg 156 52, 124431.jpg 76 104, 124431.jpg 101 143</td>\n",
       "      <td>6.0</td>\n",
       "      <td>93011.jpg</td>\n",
       "      <td>124431.jpg</td>\n",
       "      <td>Natural</td>\n",
       "      <td>background</td>\n",
       "      <td>6</td>\n",
       "    </tr>\n",
       "    <tr>\n",
       "      <th>9</th>\n",
       "      <td>a0617c4bf7bf4a48b6a05ccf210416f4</td>\n",
       "      <td>ajakob</td>\n",
       "      <td>15</td>\n",
       "      <td>4</td>\n",
       "      <td>1</td>\n",
       "      <td>jyrskv.jpg 41 2, jyrskv.jpg 129 132, 664322.jpg 44 230, 664322.jpg 134 230, 664322.jpg 228 56, 664322.jpg 248 65</td>\n",
       "      <td>6.0</td>\n",
       "      <td>jyrskv.jpg</td>\n",
       "      <td>664322.jpg</td>\n",
       "      <td>Both</td>\n",
       "      <td>background, mouth</td>\n",
       "      <td>6</td>\n",
       "    </tr>\n",
       "    <tr>\n",
       "      <th>10</th>\n",
       "      <td>a0617c4bf7bf4a48b6a05ccf210416f4</td>\n",
       "      <td>ajakob</td>\n",
       "      <td>20</td>\n",
       "      <td>1</td>\n",
       "      <td>1</td>\n",
       "      <td>ivpivyi.jpg 126 126, pmvyje.jpg 14 54, pmvyje.jpg 128 114, pmvyje.jpg 126 168, pmvyje.jpg 63 204, pmvyje.jpg 190 206</td>\n",
       "      <td>6.0</td>\n",
       "      <td>pmvyje.jpg</td>\n",
       "      <td>ivpivyi.jpg</td>\n",
       "      <td>Geometric</td>\n",
       "      <td>NaN</td>\n",
       "      <td>6</td>\n",
       "    </tr>\n",
       "    <tr>\n",
       "      <th>11</th>\n",
       "      <td>e65316bbdef94562bbfcd351bd67a7d6</td>\n",
       "      <td>alexcho</td>\n",
       "      <td>5</td>\n",
       "      <td>1</td>\n",
       "      <td>1</td>\n",
       "      <td>ivpivyi.jpg 28 74, ivpivyi.jpg 227 73, ivpivyi.jpg 128 127, ivpivyi.jpg 94 186, ivpivyi.jpg 128 244, ivpivyi.jpg 163 185</td>\n",
       "      <td>6.0</td>\n",
       "      <td>ivpivyi.jpg</td>\n",
       "      <td>NaN</td>\n",
       "      <td>Geometric</td>\n",
       "      <td>NaN</td>\n",
       "      <td>6</td>\n",
       "    </tr>\n",
       "    <tr>\n",
       "      <th>12</th>\n",
       "      <td>e65316bbdef94562bbfcd351bd67a7d6</td>\n",
       "      <td>alexcho</td>\n",
       "      <td>20</td>\n",
       "      <td>1</td>\n",
       "      <td>1</td>\n",
       "      <td>pmvyje.jpg 15 52, pmvyje.jpg 241 53, pmvyje.jpg 47 141, pmvyje.jpg 209 141, pmvyje.jpg 64 204, pmvyje.jpg 190 204</td>\n",
       "      <td>6.0</td>\n",
       "      <td>pmvyje.jpg</td>\n",
       "      <td>NaN</td>\n",
       "      <td>Geometric</td>\n",
       "      <td>NaN</td>\n",
       "      <td>6</td>\n",
       "    </tr>\n",
       "    <tr>\n",
       "      <th>13</th>\n",
       "      <td>d25a10695de84969a45ab99d66c3307d</td>\n",
       "      <td>arristar</td>\n",
       "      <td>3</td>\n",
       "      <td>10</td>\n",
       "      <td>0</td>\n",
       "      <td>NaN</td>\n",
       "      <td>NaN</td>\n",
       "      <td>NaN</td>\n",
       "      <td>NaN</td>\n",
       "      <td>NaN</td>\n",
       "      <td>NaN</td>\n",
       "      <td>0</td>\n",
       "    </tr>\n",
       "    <tr>\n",
       "      <th>14</th>\n",
       "      <td>d25a10695de84969a45ab99d66c3307d</td>\n",
       "      <td>arristar</td>\n",
       "      <td>20</td>\n",
       "      <td>5</td>\n",
       "      <td>1</td>\n",
       "      <td>93011.jpg 114 98, 93011.jpg 190 103, 93011.jpg 163 154, ivpivyi.jpg 94 98, ivpivyi.jpg 186 100, ivpivyi.jpg 138 176</td>\n",
       "      <td>6.0</td>\n",
       "      <td>93011.jpg</td>\n",
       "      <td>ivpivyi.jpg</td>\n",
       "      <td>Both</td>\n",
       "      <td>mouth</td>\n",
       "      <td>6</td>\n",
       "    </tr>\n",
       "    <tr>\n",
       "      <th>15</th>\n",
       "      <td>7065c3a468ca47939eb7af372562720a</td>\n",
       "      <td>copperonionsmakemecri</td>\n",
       "      <td>5</td>\n",
       "      <td>2</td>\n",
       "      <td>1</td>\n",
       "      <td>reknep.jpg 119 58, 124431.jpg 28 34, reknep.jpg 50 193, 124431.jpg 155 58, reknep.jpg 177 118, 124431.jpg 132 166</td>\n",
       "      <td>6.0</td>\n",
       "      <td>reknep.jpg</td>\n",
       "      <td>124431.jpg</td>\n",
       "      <td>Both</td>\n",
       "      <td>background</td>\n",
       "      <td>6</td>\n",
       "    </tr>\n",
       "    <tr>\n",
       "      <th>16</th>\n",
       "      <td>7065c3a468ca47939eb7af372562720a</td>\n",
       "      <td>copperonionsmakemecri</td>\n",
       "      <td>30</td>\n",
       "      <td>1</td>\n",
       "      <td>1</td>\n",
       "      <td>loliysx.jpg 170 115, 111371.jpg 240 134, 111371.jpg 178 30, loliysx.jpg 147 84, 111371.jpg 90 226, loliysx.jpg 122 241</td>\n",
       "      <td>6.0</td>\n",
       "      <td>111371.jpg</td>\n",
       "      <td>loliysx.jpg</td>\n",
       "      <td>Both</td>\n",
       "      <td>background</td>\n",
       "      <td>6</td>\n",
       "    </tr>\n",
       "    <tr>\n",
       "      <th>17</th>\n",
       "      <td>dec77b5d6e2647efa6a31bd23fcefaab</td>\n",
       "      <td>freezy</td>\n",
       "      <td>10</td>\n",
       "      <td>1</td>\n",
       "      <td>1</td>\n",
       "      <td>93011.jpg 104 85, 93011.jpg 179 91, 93011.jpg 102 90, 93011.jpg 176 92, 124431.jpg 77 106, 124431.jpg 116 108</td>\n",
       "      <td>6.0</td>\n",
       "      <td>93011.jpg</td>\n",
       "      <td>124431.jpg</td>\n",
       "      <td>Natural</td>\n",
       "      <td>background</td>\n",
       "      <td>4</td>\n",
       "    </tr>\n",
       "    <tr>\n",
       "      <th>18</th>\n",
       "      <td>dec77b5d6e2647efa6a31bd23fcefaab</td>\n",
       "      <td>freezy</td>\n",
       "      <td>30</td>\n",
       "      <td>1</td>\n",
       "      <td>1</td>\n",
       "      <td>jyrskv.jpg 130 134, ivpivyi.jpg 126 128, jyrskv.jpg 130 134, jyrskv.jpg 129 134, jyrskv.jpg 129 134, ivpivyi.jpg 124 126</td>\n",
       "      <td>6.0</td>\n",
       "      <td>jyrskv.jpg</td>\n",
       "      <td>ivpivyi.jpg</td>\n",
       "      <td>Geometric</td>\n",
       "      <td>NaN</td>\n",
       "      <td>2</td>\n",
       "    </tr>\n",
       "    <tr>\n",
       "      <th>19</th>\n",
       "      <td>6429ccf0b5684899a0c6e55973707a56</td>\n",
       "      <td>joey</td>\n",
       "      <td>3</td>\n",
       "      <td>3</td>\n",
       "      <td>1</td>\n",
       "      <td>loliysx.jpg 32 75, loliysx.jpg 122 24, loliysx.jpg 208 76, loliysx.jpg 210 178, loliysx.jpg 120 230, loliysx.jpg 30 178</td>\n",
       "      <td>6.0</td>\n",
       "      <td>loliysx.jpg</td>\n",
       "      <td>NaN</td>\n",
       "      <td>Geometric</td>\n",
       "      <td>NaN</td>\n",
       "      <td>6</td>\n",
       "    </tr>\n",
       "    <tr>\n",
       "      <th>20</th>\n",
       "      <td>6429ccf0b5684899a0c6e55973707a56</td>\n",
       "      <td>joey</td>\n",
       "      <td>10</td>\n",
       "      <td>1</td>\n",
       "      <td>1</td>\n",
       "      <td>ivpivyi.jpg 30 71, ivpivyi.jpg 226 72, ivpivyi.jpg 130 237, ivpivyi.jpg 28 184, ivpivyi.jpg 129 14, ivpivyi.jpg 224 181</td>\n",
       "      <td>6.0</td>\n",
       "      <td>ivpivyi.jpg</td>\n",
       "      <td>NaN</td>\n",
       "      <td>Geometric</td>\n",
       "      <td>NaN</td>\n",
       "      <td>6</td>\n",
       "    </tr>\n",
       "    <tr>\n",
       "      <th>21</th>\n",
       "      <td>f2f0f1539d7b4e538e3be394243a1270</td>\n",
       "      <td>keene</td>\n",
       "      <td>5</td>\n",
       "      <td>5</td>\n",
       "      <td>1</td>\n",
       "      <td>93011.jpg 82 54, 93011.jpg 106 14, 93011.jpg 155 14, 93011.jpg 181 50, 93011.jpg 178 87, 93011.jpg 102 86, 93011.jpg 155 134, reknep.jpg 31 108, reknep.jpg 84 96, reknep.jpg 134 127</td>\n",
       "      <td>10.0</td>\n",
       "      <td>reknep.jpg</td>\n",
       "      <td>93011.jpg</td>\n",
       "      <td>Both</td>\n",
       "      <td>background, mouth</td>\n",
       "      <td>10</td>\n",
       "    </tr>\n",
       "    <tr>\n",
       "      <th>22</th>\n",
       "      <td>f2f0f1539d7b4e538e3be394243a1270</td>\n",
       "      <td>keene</td>\n",
       "      <td>20</td>\n",
       "      <td>2</td>\n",
       "      <td>1</td>\n",
       "      <td>124431.jpg 50 56, 124431.jpg 140 65, 124431.jpg 76 104, 124431.jpg 110 106, 124431.jpg 95 143, ivpivyi.jpg 28 72, ivpivyi.jpg 126 14, ivpivyi.jpg 225 71, ivpivyi.jpg 226 180, ivpivyi.jpg 30 181</td>\n",
       "      <td>10.0</td>\n",
       "      <td>124431.jpg</td>\n",
       "      <td>ivpivyi.jpg</td>\n",
       "      <td>Both</td>\n",
       "      <td>ears, eyes</td>\n",
       "      <td>10</td>\n",
       "    </tr>\n",
       "    <tr>\n",
       "      <th>23</th>\n",
       "      <td>44fd45a7a7684995b3f3e5dd73b0a285</td>\n",
       "      <td>lionstar64</td>\n",
       "      <td>15</td>\n",
       "      <td>5</td>\n",
       "      <td>1</td>\n",
       "      <td>pmvyje.jpg 128 116, jyrskv.jpg 132 130, pmvyje.jpg 128 114, pmvyje.jpg 128 114, pmvyje.jpg 128 114, pmvyje.jpg 130 114, pmvyje.jpg 128 112</td>\n",
       "      <td>7.0</td>\n",
       "      <td>pmvyje.jpg</td>\n",
       "      <td>jyrskv.jpg</td>\n",
       "      <td>Geometric</td>\n",
       "      <td>NaN</td>\n",
       "      <td>2</td>\n",
       "    </tr>\n",
       "    <tr>\n",
       "      <th>24</th>\n",
       "      <td>44fd45a7a7684995b3f3e5dd73b0a285</td>\n",
       "      <td>lionstar64</td>\n",
       "      <td>30</td>\n",
       "      <td>9</td>\n",
       "      <td>0</td>\n",
       "      <td>NaN</td>\n",
       "      <td>NaN</td>\n",
       "      <td>NaN</td>\n",
       "      <td>NaN</td>\n",
       "      <td>NaN</td>\n",
       "      <td>NaN</td>\n",
       "      <td>0</td>\n",
       "    </tr>\n",
       "    <tr>\n",
       "      <th>25</th>\n",
       "      <td>3bee5ce0883043d396d4de3d32fda787</td>\n",
       "      <td>nameo4545</td>\n",
       "      <td>30</td>\n",
       "      <td>9</td>\n",
       "      <td>0</td>\n",
       "      <td>NaN</td>\n",
       "      <td>NaN</td>\n",
       "      <td>NaN</td>\n",
       "      <td>NaN</td>\n",
       "      <td>NaN</td>\n",
       "      <td>NaN</td>\n",
       "      <td>0</td>\n",
       "    </tr>\n",
       "    <tr>\n",
       "      <th>26</th>\n",
       "      <td>db879651d8e748cd83b669906349f824</td>\n",
       "      <td>professor</td>\n",
       "      <td>5</td>\n",
       "      <td>7</td>\n",
       "      <td>0</td>\n",
       "      <td>NaN</td>\n",
       "      <td>NaN</td>\n",
       "      <td>NaN</td>\n",
       "      <td>NaN</td>\n",
       "      <td>NaN</td>\n",
       "      <td>NaN</td>\n",
       "      <td>0</td>\n",
       "    </tr>\n",
       "    <tr>\n",
       "      <th>27</th>\n",
       "      <td>e0c2bac3573d49b7bb3edbd2e9194183</td>\n",
       "      <td>professor_g</td>\n",
       "      <td>5</td>\n",
       "      <td>1</td>\n",
       "      <td>1</td>\n",
       "      <td>ivpivyi.jpg 128 50, ivpivyi.jpg 129 50, ivpivyi.jpg 196 166, ivpivyi.jpg 196 166, reknep.jpg 133 130, reknep.jpg 133 130</td>\n",
       "      <td>6.0</td>\n",
       "      <td>reknep.jpg</td>\n",
       "      <td>ivpivyi.jpg</td>\n",
       "      <td>Geometric</td>\n",
       "      <td>NaN</td>\n",
       "      <td>3</td>\n",
       "    </tr>\n",
       "    <tr>\n",
       "      <th>28</th>\n",
       "      <td>e0c2bac3573d49b7bb3edbd2e9194183</td>\n",
       "      <td>professor_g</td>\n",
       "      <td>20</td>\n",
       "      <td>1</td>\n",
       "      <td>1</td>\n",
       "      <td>124431.jpg 250 252, 124431.jpg 250 252, 83990.jpg 6 252, 83990.jpg 6 252, 83990.jpg 6 8, 83990.jpg 6 8</td>\n",
       "      <td>6.0</td>\n",
       "      <td>83990.jpg</td>\n",
       "      <td>124431.jpg</td>\n",
       "      <td>Natural</td>\n",
       "      <td>background</td>\n",
       "      <td>3</td>\n",
       "    </tr>\n",
       "    <tr>\n",
       "      <th>29</th>\n",
       "      <td>c7ea5bf58c774a0e97bbb06bd3848ed4</td>\n",
       "      <td>sammaltz</td>\n",
       "      <td>10</td>\n",
       "      <td>1</td>\n",
       "      <td>1</td>\n",
       "      <td>124431.jpg 54 56, 111371.jpg 246 158, 124431.jpg 28 32, 111371.jpg 180 18, 124431.jpg 92 161, 111371.jpg 31 79</td>\n",
       "      <td>6.0</td>\n",
       "      <td>111371.jpg</td>\n",
       "      <td>124431.jpg</td>\n",
       "      <td>Natural</td>\n",
       "      <td>background, ears</td>\n",
       "      <td>6</td>\n",
       "    </tr>\n",
       "    <tr>\n",
       "      <th>30</th>\n",
       "      <td>c7ea5bf58c774a0e97bbb06bd3848ed4</td>\n",
       "      <td>sammaltz</td>\n",
       "      <td>20</td>\n",
       "      <td>5</td>\n",
       "      <td>1</td>\n",
       "      <td>664322.jpg 147 227, 93011.jpg 175 68, 664322.jpg 177 210, 93011.jpg 6 22, 664322.jpg 254 128, 93011.jpg 232 82</td>\n",
       "      <td>6.0</td>\n",
       "      <td>93011.jpg</td>\n",
       "      <td>664322.jpg</td>\n",
       "      <td>Natural</td>\n",
       "      <td>background</td>\n",
       "      <td>6</td>\n",
       "    </tr>\n",
       "    <tr>\n",
       "      <th>31</th>\n",
       "      <td>9f2d3324c5a74264841d395f0140ccf8</td>\n",
       "      <td>theoj</td>\n",
       "      <td>15</td>\n",
       "      <td>1</td>\n",
       "      <td>1</td>\n",
       "      <td>jyrskv.jpg 12 28, jyrskv.jpg 248 48, jyrskv.jpg 196 237, jyrskv.jpg 133 74, jyrskv.jpg 93 127, jyrskv.jpg 130 130, 664322.jpg 43 132, 664322.jpg 84 14, 664322.jpg 148 24, 664322.jpg 200 84, 664322.jpg 146 250, 664322.jpg 107 174</td>\n",
       "      <td>12.0</td>\n",
       "      <td>jyrskv.jpg</td>\n",
       "      <td>664322.jpg</td>\n",
       "      <td>Both</td>\n",
       "      <td>background</td>\n",
       "      <td>12</td>\n",
       "    </tr>\n",
       "    <tr>\n",
       "      <th>32</th>\n",
       "      <td>9f2d3324c5a74264841d395f0140ccf8</td>\n",
       "      <td>theoj</td>\n",
       "      <td>20</td>\n",
       "      <td>1</td>\n",
       "      <td>1</td>\n",
       "      <td>pmvyje.jpg 182 90, pmvyje.jpg 182 98, pmvyje.jpg 188 98, pmvyje.jpg 170 111, pmvyje.jpg 186 112, pmvyje.jpg 184 124, 83990.jpg 68 190, 83990.jpg 74 232, 83990.jpg 90 200, 83990.jpg 115 193, 83990.jpg 116 180, 83990.jpg 96 159</td>\n",
       "      <td>12.0</td>\n",
       "      <td>pmvyje.jpg</td>\n",
       "      <td>83990.jpg</td>\n",
       "      <td>Both</td>\n",
       "      <td>background</td>\n",
       "      <td>11</td>\n",
       "    </tr>\n",
       "  </tbody>\n",
       "</table>"
      ],
      "text/plain": [
       "<IPython.core.display.HTML object>"
      ]
     },
     "metadata": {},
     "output_type": "display_data"
    }
   ],
   "source": [
    "display(HTML(full_df.to_html()))"
   ]
  },
  {
   "cell_type": "code",
   "execution_count": 15,
   "metadata": {},
   "outputs": [
    {
     "name": "stdout",
     "output_type": "stream",
     "text": [
      "Percent of people that did not complete the survey: 5/19 = 0.2631578947368421\n"
     ]
    }
   ],
   "source": [
    "not_finished = full_df.loc[~full_df.duplicated(\"username\", keep=False), \"id\"].unique()\n",
    "print(F\"Percent of people that did not complete the survey: {len(not_finished)}/{len(full_df['username'].unique().tolist())} = {len(not_finished) / len(full_df['username'].unique().tolist())}\")"
   ]
  },
  {
   "cell_type": "code",
   "execution_count": 16,
   "metadata": {},
   "outputs": [],
   "source": [
    "r_grouped = full_df.groupby(\"r\")"
   ]
  },
  {
   "cell_type": "code",
   "execution_count": 17,
   "metadata": {},
   "outputs": [
    {
     "data": {
      "text/html": [
       "<table border=\"1\" class=\"dataframe\">\n",
       "  <thead>\n",
       "    <tr style=\"text-align: right;\">\n",
       "      <th></th>\n",
       "      <th>Sample Size</th>\n",
       "      <th>Success Rate</th>\n",
       "      <th>Average Attemps</th>\n",
       "      <th>Passwords Made</th>\n",
       "    </tr>\n",
       "    <tr>\n",
       "      <th>r</th>\n",
       "      <th></th>\n",
       "      <th></th>\n",
       "      <th></th>\n",
       "      <th></th>\n",
       "    </tr>\n",
       "  </thead>\n",
       "  <tbody>\n",
       "    <tr>\n",
       "      <th>3</th>\n",
       "      <td>2.0</td>\n",
       "      <td>0.076923</td>\n",
       "      <td>6.500000</td>\n",
       "      <td>1.0</td>\n",
       "    </tr>\n",
       "    <tr>\n",
       "      <th>5</th>\n",
       "      <td>7.0</td>\n",
       "      <td>0.160000</td>\n",
       "      <td>3.571429</td>\n",
       "      <td>4.0</td>\n",
       "    </tr>\n",
       "    <tr>\n",
       "      <th>10</th>\n",
       "      <td>7.0</td>\n",
       "      <td>0.250000</td>\n",
       "      <td>2.285714</td>\n",
       "      <td>4.0</td>\n",
       "    </tr>\n",
       "    <tr>\n",
       "      <th>15</th>\n",
       "      <td>5.0</td>\n",
       "      <td>0.266667</td>\n",
       "      <td>3.000000</td>\n",
       "      <td>4.0</td>\n",
       "    </tr>\n",
       "    <tr>\n",
       "      <th>20</th>\n",
       "      <td>8.0</td>\n",
       "      <td>0.470588</td>\n",
       "      <td>2.125000</td>\n",
       "      <td>8.0</td>\n",
       "    </tr>\n",
       "    <tr>\n",
       "      <th>30</th>\n",
       "      <td>4.0</td>\n",
       "      <td>0.100000</td>\n",
       "      <td>5.000000</td>\n",
       "      <td>2.0</td>\n",
       "    </tr>\n",
       "  </tbody>\n",
       "</table>"
      ],
      "text/plain": [
       "<IPython.core.display.HTML object>"
      ]
     },
     "metadata": {},
     "output_type": "display_data"
    },
    {
     "data": {
      "text/plain": [
       "<Figure size 432x288 with 0 Axes>"
      ]
     },
     "metadata": {},
     "output_type": "display_data"
    },
    {
     "data": {
      "image/png": "[encoded data removed]",
      "text/plain": [
       "<Figure size 432x288 with 1 Axes>"
      ]
     },
     "metadata": {
      "needs_background": "light"
     },
     "output_type": "display_data"
    }
   ],
   "source": [
    "average_success = r_grouped.apply(lambda df: pd.Series({\"Sample Size\": len(df.index),\n",
    "                                                        \"Success Rate\": df[\"successes\"].sum() / df[\"attempts\"].sum(),\n",
    "                                                        \"Average Attemps\": df[\"attempts\"].mean(),\n",
    "                                                        \"Passwords Made\": df[\"successes\"].sum()}))\n",
    "display(HTML(average_success.to_html()))\n",
    "plt.figure()\n",
    "average_success.plot(y=\"Success Rate\", use_index=True)\n",
    "plt.title(\"Success Rate of Different Radial Distances\")\n",
    "plt.show()"
   ]
  },
  {
   "cell_type": "code",
   "execution_count": 18,
   "metadata": {},
   "outputs": [],
   "source": [
    "made_password_r_group = full_df.loc[full_df[\"successes\"] != 0].groupby(\"r\")"
   ]
  },
  {
   "cell_type": "code",
   "execution_count": 19,
   "metadata": {},
   "outputs": [
    {
     "data": {
      "text/html": [
       "<table border=\"1\" class=\"dataframe\">\n",
       "  <thead>\n",
       "    <tr style=\"text-align: right;\">\n",
       "      <th></th>\n",
       "      <th>Sample Size</th>\n",
       "      <th>Success Rate</th>\n",
       "      <th>Average Attempts</th>\n",
       "      <th>Passwords Made</th>\n",
       "    </tr>\n",
       "    <tr>\n",
       "      <th>r</th>\n",
       "      <th></th>\n",
       "      <th></th>\n",
       "      <th></th>\n",
       "      <th></th>\n",
       "    </tr>\n",
       "  </thead>\n",
       "  <tbody>\n",
       "    <tr>\n",
       "      <th>3</th>\n",
       "      <td>1.0</td>\n",
       "      <td>0.333333</td>\n",
       "      <td>3.000</td>\n",
       "      <td>1.0</td>\n",
       "    </tr>\n",
       "    <tr>\n",
       "      <th>5</th>\n",
       "      <td>4.0</td>\n",
       "      <td>0.444444</td>\n",
       "      <td>2.250</td>\n",
       "      <td>4.0</td>\n",
       "    </tr>\n",
       "    <tr>\n",
       "      <th>10</th>\n",
       "      <td>4.0</td>\n",
       "      <td>1.000000</td>\n",
       "      <td>1.000</td>\n",
       "      <td>4.0</td>\n",
       "    </tr>\n",
       "    <tr>\n",
       "      <th>15</th>\n",
       "      <td>4.0</td>\n",
       "      <td>0.307692</td>\n",
       "      <td>3.250</td>\n",
       "      <td>4.0</td>\n",
       "    </tr>\n",
       "    <tr>\n",
       "      <th>20</th>\n",
       "      <td>8.0</td>\n",
       "      <td>0.470588</td>\n",
       "      <td>2.125</td>\n",
       "      <td>8.0</td>\n",
       "    </tr>\n",
       "    <tr>\n",
       "      <th>30</th>\n",
       "      <td>2.0</td>\n",
       "      <td>1.000000</td>\n",
       "      <td>1.000</td>\n",
       "      <td>2.0</td>\n",
       "    </tr>\n",
       "  </tbody>\n",
       "</table>"
      ],
      "text/plain": [
       "<IPython.core.display.HTML object>"
      ]
     },
     "metadata": {},
     "output_type": "display_data"
    },
    {
     "data": {
      "text/plain": [
       "<Figure size 432x288 with 0 Axes>"
      ]
     },
     "metadata": {},
     "output_type": "display_data"
    },
    {
     "data": {
      "image/png": "[encoded data removed]",
      "text/plain": [
       "<Figure size 432x288 with 1 Axes>"
      ]
     },
     "metadata": {
      "needs_background": "light"
     },
     "output_type": "display_data"
    }
   ],
   "source": [
    "average_success_of_successful = made_password_r_group.apply(lambda df: pd.Series({\"Sample Size\": len(df.index),\n",
    "                                                        \"Success Rate\": df[\"successes\"].sum() / df[\"attempts\"].sum(),\n",
    "                                                        \"Average Attempts\": df[\"attempts\"].mean(),\n",
    "                                                        \"Passwords Made\": df[\"successes\"].sum()}))\n",
    "display(HTML(average_success_of_successful.to_html()))\n",
    "plt.figure()\n",
    "average_success_of_successful.plot(y=\"Success Rate\", use_index=True)\n",
    "plt.title(\"Success Rate from Successful of Different Radial Distances\")\n",
    "plt.show()"
   ]
  },
  {
   "cell_type": "code",
   "execution_count": 20,
   "metadata": {},
   "outputs": [
    {
     "data": {
      "image/png": "[encoded data removed]",
      "text/plain": [
       "<Figure size 432x288 with 1 Axes>"
      ]
     },
     "metadata": {
      "needs_background": "light"
     },
     "output_type": "display_data"
    }
   ],
   "source": [
    "one_image = len(full_df.loc[(~pd.isnull(full_df[\"image1\"])) & (pd.isnull(full_df[\"image2\"]))].index)\n",
    "two_images = len(full_df.loc[(~pd.isnull(full_df[\"image1\"])) & (~pd.isnull(full_df[\"image2\"]))].index)\n",
    "\n",
    "plt.figure()\n",
    "plt.bar([\"One Image\", \"Two Images\"], [one_image, two_images])\n",
    "plt.title(\"Number of Images Actually Utilized\")\n",
    "plt.text(0, one_image / 2, F\"{one_image}\")\n",
    "plt.text(1, two_images / 2, F\"{two_images}\")\n",
    "plt.show()"
   ]
  },
  {
   "cell_type": "code",
   "execution_count": 21,
   "metadata": {},
   "outputs": [
    {
     "data": {
      "image/png": "[encoded data removed]",
      "text/plain": [
       "<Figure size 432x288 with 1 Axes>"
      ]
     },
     "metadata": {
      "needs_background": "light"
     },
     "output_type": "display_data"
    }
   ],
   "source": [
    "just_geometric = len(full_df.loc[full_df[\"image_types\"] == \"Geometric\"].index)\n",
    "just_natural = len(full_df.loc[full_df[\"image_types\"] == \"Natural\"].index)\n",
    "both_types = len(full_df.loc[full_df[\"image_types\"] == \"Both\"].index)\n",
    "\n",
    "plt.figure()\n",
    "plt.bar([\"Just Geometric\", \"Just Natural\", \"Both Image Types\"], [just_geometric, just_natural, both_types])\n",
    "plt.title(\"Image Types Used\")\n",
    "plt.text(0, just_geometric / 2, F\"{just_geometric}\")\n",
    "plt.text(1, just_natural / 2, F\"{just_natural}\")\n",
    "plt.text(2, both_types / 2, F\"{both_types}\")\n",
    "plt.show()"
   ]
  },
  {
   "cell_type": "code",
   "execution_count": 22,
   "metadata": {},
   "outputs": [],
   "source": [
    "group_r_image_type = full_df.groupby(by=[\"r\", \"image_types\"])"
   ]
  },
  {
   "cell_type": "code",
   "execution_count": 23,
   "metadata": {},
   "outputs": [
    {
     "name": "stdout",
     "output_type": "stream",
     "text": [
      "                Sample Size  Success Rate  Average Attempts  Passwords Made\n",
      "r  image_types                                                             \n",
      "3  Geometric            1.0      0.333333          3.000000             1.0\n",
      "5  Both                 2.0      0.285714          3.500000             2.0\n",
      "   Geometric            2.0      1.000000          1.000000             2.0\n",
      "10 Geometric            2.0      1.000000          1.000000             2.0\n",
      "   Natural              2.0      1.000000          1.000000             2.0\n",
      "15 Both                 2.0      0.400000          2.500000             2.0\n",
      "   Geometric            2.0      0.250000          4.000000             2.0\n",
      "20 Both                 3.0      0.375000          2.666667             3.0\n",
      "   Geometric            2.0      1.000000          1.000000             2.0\n",
      "   Natural              3.0      0.428571          2.333333             3.0\n",
      "30 Both                 1.0      1.000000          1.000000             1.0\n",
      "   Geometric            1.0      1.000000          1.000000             1.0\n"
     ]
    }
   ],
   "source": [
    "average_success_by_type = group_r_image_type.apply(lambda df: pd.Series({\"Sample Size\": len(df.index),\n",
    "                                                        \"Success Rate\": df[\"successes\"].sum() / df[\"attempts\"].sum(),\n",
    "                                                        \"Average Attempts\": df[\"attempts\"].mean(),\n",
    "                                                        \"Passwords Made\": df[\"successes\"].sum()}))\n",
    "\n",
    "print(average_success_by_type.sort_index())"
   ]
  },
  {
   "cell_type": "code",
   "execution_count": 24,
   "metadata": {},
   "outputs": [],
   "source": [
    "masked_names = [name for name in image_masks.keys()]"
   ]
  },
  {
   "cell_type": "code",
   "execution_count": 25,
   "metadata": {},
   "outputs": [],
   "source": [
    "for background_mask in [mask for mask in masked_names if \"background\" in mask]:\n",
    "    image_name = background_mask.split(\"_\")[0]\n",
    "    for image_mask in [mask for mask in masked_names if image_name in mask and not \"background\" in mask]:\n",
    "        image_masks[background_mask] = np.where(image_masks[image_mask] > 0, 0, image_masks[background_mask])"
   ]
  },
  {
   "cell_type": "code",
   "execution_count": 26,
   "metadata": {},
   "outputs": [
    {
     "name": "stdout",
     "output_type": "stream",
     "text": [
      "[[0 0 0 ... 0 0 0]\n",
      " [0 0 0 ... 0 0 0]\n",
      " [0 0 0 ... 0 0 0]\n",
      " ...\n",
      " [0 0 0 ... 0 0 0]\n",
      " [0 0 0 ... 0 0 0]\n",
      " [0 0 0 ... 0 0 0]]\n"
     ]
    }
   ],
   "source": [
    "print(image_masks[\"83990_nose\"])"
   ]
  },
  {
   "cell_type": "code",
   "execution_count": 27,
   "metadata": {},
   "outputs": [],
   "source": [
    "image_attribute_counts = {}\n",
    "for attribute in image_attributes:\n",
    "    image_attribute_counts[attribute.title()] = len(full_df.loc[full_df[\"natural_characteristics\"].str.contains(attribute, na=False, regex=False)].index)\n",
    "\n",
    "image_attribute_counts[\"Total Natural Image Passwords\"] = len(full_df.loc[(full_df[\"image_types\"] == \"Both\") | (full_df[\"image_types\"] == \"Natural\")].index)"
   ]
  },
  {
   "cell_type": "code",
   "execution_count": 28,
   "metadata": {},
   "outputs": [
    {
     "data": {
      "image/png": "[encoded data removed]",
      "text/plain": [
       "<Figure size 432x288 with 1 Axes>"
      ]
     },
     "metadata": {
      "needs_background": "light"
     },
     "output_type": "display_data"
    }
   ],
   "source": [
    "plt.figure()\n",
    "plt.bar(image_attribute_counts.keys(), image_attribute_counts.values())\n",
    "plt.title(\"Attributes in Natural Images\")\n",
    "plt.xticks(rotation=15)\n",
    "plt.show()"
   ]
  },
  {
   "cell_type": "code",
   "execution_count": 29,
   "metadata": {},
   "outputs": [],
   "source": [
    "length_group = full_df.groupby(\"password_length\")"
   ]
  },
  {
   "cell_type": "code",
   "execution_count": 30,
   "metadata": {},
   "outputs": [
    {
     "data": {
      "text/html": [
       "<table border=\"1\" class=\"dataframe\">\n",
       "  <thead>\n",
       "    <tr style=\"text-align: right;\">\n",
       "      <th></th>\n",
       "      <th>Sample Size</th>\n",
       "      <th>Average Unique Points</th>\n",
       "      <th>Standard Deviation of Unique Points</th>\n",
       "      <th>Max Unique Points</th>\n",
       "      <th>Min Unique Points</th>\n",
       "    </tr>\n",
       "    <tr>\n",
       "      <th>password_length</th>\n",
       "      <th></th>\n",
       "      <th></th>\n",
       "      <th></th>\n",
       "      <th></th>\n",
       "      <th></th>\n",
       "    </tr>\n",
       "  </thead>\n",
       "  <tbody>\n",
       "    <tr>\n",
       "      <th>6.0</th>\n",
       "      <td>18.0</td>\n",
       "      <td>5.0</td>\n",
       "      <td>1.533930</td>\n",
       "      <td>6.0</td>\n",
       "      <td>2.0</td>\n",
       "    </tr>\n",
       "    <tr>\n",
       "      <th>7.0</th>\n",
       "      <td>1.0</td>\n",
       "      <td>2.0</td>\n",
       "      <td>NaN</td>\n",
       "      <td>2.0</td>\n",
       "      <td>2.0</td>\n",
       "    </tr>\n",
       "    <tr>\n",
       "      <th>10.0</th>\n",
       "      <td>2.0</td>\n",
       "      <td>10.0</td>\n",
       "      <td>0.000000</td>\n",
       "      <td>10.0</td>\n",
       "      <td>10.0</td>\n",
       "    </tr>\n",
       "    <tr>\n",
       "      <th>12.0</th>\n",
       "      <td>2.0</td>\n",
       "      <td>11.5</td>\n",
       "      <td>0.707107</td>\n",
       "      <td>12.0</td>\n",
       "      <td>11.0</td>\n",
       "    </tr>\n",
       "  </tbody>\n",
       "</table>"
      ],
      "text/plain": [
       "<IPython.core.display.HTML object>"
      ]
     },
     "metadata": {},
     "output_type": "display_data"
    },
    {
     "data": {
      "text/plain": [
       "<Figure size 432x288 with 0 Axes>"
      ]
     },
     "metadata": {},
     "output_type": "display_data"
    },
    {
     "data": {
      "image/png": "[encoded data removed]",
      "text/plain": [
       "<Figure size 432x288 with 1 Axes>"
      ]
     },
     "metadata": {
      "needs_background": "light"
     },
     "output_type": "display_data"
    }
   ],
   "source": [
    "average_unique_points = length_group.apply(lambda df: pd.Series({\"Sample Size\": len(df.index),\n",
    "                                                        \"Average Unique Points\": df[\"unique_points\"].mean(),\n",
    "                                                        \"Standard Deviation of Unique Points\": df[\"unique_points\"].std(),\n",
    "                                                        \"Max Unique Points\": df[\"unique_points\"].max(),\n",
    "                                                        \"Min Unique Points\": df[\"unique_points\"].min()}))\n",
    "\n",
    "display(HTML(average_unique_points.sort_index().to_html()))\n",
    "plt.figure()\n",
    "average_unique_points.plot(y=\"Average Unique Points\", use_index=True)\n",
    "plt.title(\"Number of Unique Points per Password\")\n",
    "plt.xlabel(\"Password Length\")\n",
    "plt.ylabel(\"Unique Points in Password\")\n",
    "plt.show()"
   ]
  }
 ],
 "metadata": {
  "interpreter": {
   "hash": "31f2aee4e71d21fbe5cf8b01ff0e069b9275f58929596ceb00d14d90e3e16cd6"
  },
  "kernelspec": {
   "display_name": "Python 3.8.10 64-bit",
   "language": "python",
   "name": "python3"
  },
  "language_info": {
   "codemirror_mode": {
    "name": "ipython",
    "version": 3
   },
   "file_extension": ".py",
   "mimetype": "text/x-python",
   "name": "python",
   "nbconvert_exporter": "python",
   "pygments_lexer": "ipython3",
   "version": "3.8.10"
  },
  "orig_nbformat": 4
 },
 "nbformat": 4,
 "nbformat_minor": 2
}
